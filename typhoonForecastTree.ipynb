{
 "cells": [
  {
   "cell_type": "code",
   "execution_count": 2,
   "id": "b43c885a",
   "metadata": {
    "ExecuteTime": {
     "end_time": "2023-11-18T08:10:48.395716900Z",
     "start_time": "2023-11-18T08:10:45.495177500Z"
    }
   },
   "outputs": [],
   "source": [
    "import pandas as pd\n",
    "from sklearn.model_selection import train_test_split\n",
    "import numpy as np\n",
    "from sklearn.tree import DecisionTreeClassifier\n",
    "from sklearn.preprocessing import StandardScaler\n",
    "from sklearn.tree import export_graphviz\n",
    "from matplotlib import pyplot as plt\n",
    "from matplotlib.pyplot import MultipleLocator\n",
    "from sklearn import tree\n",
    "from sklearn.model_selection import KFold\n",
    "from mpl_toolkits.basemap import Basemap\n",
    "from matplotlib.contour import QuadContourSet\n",
    "import xarray as xr"
   ]
  },
  {
   "cell_type": "code",
   "execution_count": 3,
   "outputs": [
    {
     "name": "stderr",
     "output_type": "stream",
     "text": [
      "D:\\anaconda\\conda\\lib\\site-packages\\paramiko\\transport.py:219: CryptographyDeprecationWarning: Blowfish has been deprecated\n",
      "  \"class\": algorithms.Blowfish,\n"
     ]
    }
   ],
   "source": [
    "test1=xr.open_dataset(\"E:/data/202306.grib\", engine='cfgrib')"
   ],
   "metadata": {
    "collapsed": false,
    "ExecuteTime": {
     "end_time": "2023-11-18T08:13:44.898918400Z",
     "start_time": "2023-11-18T08:10:51.210396900Z"
    }
   }
  },
  {
   "cell_type": "markdown",
   "source": [],
   "metadata": {
    "collapsed": false
   }
  },
  {
   "cell_type": "code",
   "execution_count": 35,
   "outputs": [
    {
     "ename": "OSError",
     "evalue": "[Errno 22] Invalid argument",
     "output_type": "error",
     "traceback": [
      "\u001B[1;31m---------------------------------------------------------------------------\u001B[0m",
      "\u001B[1;31mOSError\u001B[0m                                   Traceback (most recent call last)",
      "\u001B[1;32m~\\AppData\\Local\\Temp\\ipykernel_17436\\306166412.py\u001B[0m in \u001B[0;36m<module>\u001B[1;34m\u001B[0m\n\u001B[1;32m----> 1\u001B[1;33m \u001B[0mtest1\u001B[0m\u001B[1;33m.\u001B[0m\u001B[0md\u001B[0m\u001B[1;33m.\u001B[0m\u001B[0mloc\u001B[0m\u001B[1;33m[\u001B[0m\u001B[1;34m'2009-06-19 02:00:00'\u001B[0m\u001B[1;33m,\u001B[0m \u001B[1;36m0\u001B[0m\u001B[1;33m,\u001B[0m \u001B[1;36m0\u001B[0m\u001B[1;33m]\u001B[0m\u001B[1;33m.\u001B[0m\u001B[0mvalues\u001B[0m\u001B[1;33m\u001B[0m\u001B[1;33m\u001B[0m\u001B[0m\n\u001B[0m",
      "\u001B[1;32mD:\\anaconda\\conda\\lib\\site-packages\\xarray\\core\\dataarray.py\u001B[0m in \u001B[0;36mvalues\u001B[1;34m(self)\u001B[0m\n\u001B[0;32m    726\u001B[0m         \u001B[0mtype\u001B[0m \u001B[0mdoes\u001B[0m \u001B[1;32mnot\u001B[0m \u001B[0msupport\u001B[0m \u001B[0mcoercion\u001B[0m \u001B[0mlike\u001B[0m \u001B[0mthis\u001B[0m \u001B[1;33m(\u001B[0m\u001B[0me\u001B[0m\u001B[1;33m.\u001B[0m\u001B[0mg\u001B[0m\u001B[1;33m.\u001B[0m \u001B[0mcupy\u001B[0m\u001B[1;33m)\u001B[0m\u001B[1;33m.\u001B[0m\u001B[1;33m\u001B[0m\u001B[1;33m\u001B[0m\u001B[0m\n\u001B[0;32m    727\u001B[0m         \"\"\"\n\u001B[1;32m--> 728\u001B[1;33m         \u001B[1;32mreturn\u001B[0m \u001B[0mself\u001B[0m\u001B[1;33m.\u001B[0m\u001B[0mvariable\u001B[0m\u001B[1;33m.\u001B[0m\u001B[0mvalues\u001B[0m\u001B[1;33m\u001B[0m\u001B[1;33m\u001B[0m\u001B[0m\n\u001B[0m\u001B[0;32m    729\u001B[0m \u001B[1;33m\u001B[0m\u001B[0m\n\u001B[0;32m    730\u001B[0m     \u001B[1;33m@\u001B[0m\u001B[0mvalues\u001B[0m\u001B[1;33m.\u001B[0m\u001B[0msetter\u001B[0m\u001B[1;33m\u001B[0m\u001B[1;33m\u001B[0m\u001B[0m\n",
      "\u001B[1;32mD:\\anaconda\\conda\\lib\\site-packages\\xarray\\core\\variable.py\u001B[0m in \u001B[0;36mvalues\u001B[1;34m(self)\u001B[0m\n\u001B[0;32m    606\u001B[0m     \u001B[1;32mdef\u001B[0m \u001B[0mvalues\u001B[0m\u001B[1;33m(\u001B[0m\u001B[0mself\u001B[0m\u001B[1;33m)\u001B[0m\u001B[1;33m:\u001B[0m\u001B[1;33m\u001B[0m\u001B[1;33m\u001B[0m\u001B[0m\n\u001B[0;32m    607\u001B[0m         \u001B[1;34m\"\"\"The variable's data as a numpy.ndarray\"\"\"\u001B[0m\u001B[1;33m\u001B[0m\u001B[1;33m\u001B[0m\u001B[0m\n\u001B[1;32m--> 608\u001B[1;33m         \u001B[1;32mreturn\u001B[0m \u001B[0m_as_array_or_item\u001B[0m\u001B[1;33m(\u001B[0m\u001B[0mself\u001B[0m\u001B[1;33m.\u001B[0m\u001B[0m_data\u001B[0m\u001B[1;33m)\u001B[0m\u001B[1;33m\u001B[0m\u001B[1;33m\u001B[0m\u001B[0m\n\u001B[0m\u001B[0;32m    609\u001B[0m \u001B[1;33m\u001B[0m\u001B[0m\n\u001B[0;32m    610\u001B[0m     \u001B[1;33m@\u001B[0m\u001B[0mvalues\u001B[0m\u001B[1;33m.\u001B[0m\u001B[0msetter\u001B[0m\u001B[1;33m\u001B[0m\u001B[1;33m\u001B[0m\u001B[0m\n",
      "\u001B[1;32mD:\\anaconda\\conda\\lib\\site-packages\\xarray\\core\\variable.py\u001B[0m in \u001B[0;36m_as_array_or_item\u001B[1;34m(data)\u001B[0m\n\u001B[0;32m    312\u001B[0m     \u001B[0mTODO\u001B[0m\u001B[1;33m:\u001B[0m \u001B[0mremove\u001B[0m \u001B[0mthis\u001B[0m \u001B[1;33m(\u001B[0m\u001B[0mreplace\u001B[0m \u001B[1;32mwith\u001B[0m \u001B[0mnp\u001B[0m\u001B[1;33m.\u001B[0m\u001B[0masarray\u001B[0m\u001B[1;33m)\u001B[0m \u001B[0monce\u001B[0m \u001B[0mthese\u001B[0m \u001B[0missues\u001B[0m \u001B[0mare\u001B[0m \u001B[0mfixed\u001B[0m\u001B[1;33m\u001B[0m\u001B[1;33m\u001B[0m\u001B[0m\n\u001B[0;32m    313\u001B[0m     \"\"\"\n\u001B[1;32m--> 314\u001B[1;33m     \u001B[0mdata\u001B[0m \u001B[1;33m=\u001B[0m \u001B[0mnp\u001B[0m\u001B[1;33m.\u001B[0m\u001B[0masarray\u001B[0m\u001B[1;33m(\u001B[0m\u001B[0mdata\u001B[0m\u001B[1;33m)\u001B[0m\u001B[1;33m\u001B[0m\u001B[1;33m\u001B[0m\u001B[0m\n\u001B[0m\u001B[0;32m    315\u001B[0m     \u001B[1;32mif\u001B[0m \u001B[0mdata\u001B[0m\u001B[1;33m.\u001B[0m\u001B[0mndim\u001B[0m \u001B[1;33m==\u001B[0m \u001B[1;36m0\u001B[0m\u001B[1;33m:\u001B[0m\u001B[1;33m\u001B[0m\u001B[1;33m\u001B[0m\u001B[0m\n\u001B[0;32m    316\u001B[0m         \u001B[1;32mif\u001B[0m \u001B[0mdata\u001B[0m\u001B[1;33m.\u001B[0m\u001B[0mdtype\u001B[0m\u001B[1;33m.\u001B[0m\u001B[0mkind\u001B[0m \u001B[1;33m==\u001B[0m \u001B[1;34m\"M\"\u001B[0m\u001B[1;33m:\u001B[0m\u001B[1;33m\u001B[0m\u001B[1;33m\u001B[0m\u001B[0m\n",
      "\u001B[1;32mD:\\anaconda\\conda\\lib\\site-packages\\xarray\\core\\indexing.py\u001B[0m in \u001B[0;36m__array__\u001B[1;34m(self, dtype)\u001B[0m\n\u001B[0;32m    651\u001B[0m \u001B[1;33m\u001B[0m\u001B[0m\n\u001B[0;32m    652\u001B[0m     \u001B[1;32mdef\u001B[0m \u001B[0m__array__\u001B[0m\u001B[1;33m(\u001B[0m\u001B[0mself\u001B[0m\u001B[1;33m,\u001B[0m \u001B[0mdtype\u001B[0m\u001B[1;33m=\u001B[0m\u001B[1;32mNone\u001B[0m\u001B[1;33m)\u001B[0m\u001B[1;33m:\u001B[0m\u001B[1;33m\u001B[0m\u001B[1;33m\u001B[0m\u001B[0m\n\u001B[1;32m--> 653\u001B[1;33m         \u001B[0mself\u001B[0m\u001B[1;33m.\u001B[0m\u001B[0m_ensure_cached\u001B[0m\u001B[1;33m(\u001B[0m\u001B[1;33m)\u001B[0m\u001B[1;33m\u001B[0m\u001B[1;33m\u001B[0m\u001B[0m\n\u001B[0m\u001B[0;32m    654\u001B[0m         \u001B[1;32mreturn\u001B[0m \u001B[0mnp\u001B[0m\u001B[1;33m.\u001B[0m\u001B[0masarray\u001B[0m\u001B[1;33m(\u001B[0m\u001B[0mself\u001B[0m\u001B[1;33m.\u001B[0m\u001B[0marray\u001B[0m\u001B[1;33m,\u001B[0m \u001B[0mdtype\u001B[0m\u001B[1;33m=\u001B[0m\u001B[0mdtype\u001B[0m\u001B[1;33m)\u001B[0m\u001B[1;33m\u001B[0m\u001B[1;33m\u001B[0m\u001B[0m\n\u001B[0;32m    655\u001B[0m \u001B[1;33m\u001B[0m\u001B[0m\n",
      "\u001B[1;32mD:\\anaconda\\conda\\lib\\site-packages\\xarray\\core\\indexing.py\u001B[0m in \u001B[0;36m_ensure_cached\u001B[1;34m(self)\u001B[0m\n\u001B[0;32m    648\u001B[0m     \u001B[1;32mdef\u001B[0m \u001B[0m_ensure_cached\u001B[0m\u001B[1;33m(\u001B[0m\u001B[0mself\u001B[0m\u001B[1;33m)\u001B[0m\u001B[1;33m:\u001B[0m\u001B[1;33m\u001B[0m\u001B[1;33m\u001B[0m\u001B[0m\n\u001B[0;32m    649\u001B[0m         \u001B[1;32mif\u001B[0m \u001B[1;32mnot\u001B[0m \u001B[0misinstance\u001B[0m\u001B[1;33m(\u001B[0m\u001B[0mself\u001B[0m\u001B[1;33m.\u001B[0m\u001B[0marray\u001B[0m\u001B[1;33m,\u001B[0m \u001B[0mNumpyIndexingAdapter\u001B[0m\u001B[1;33m)\u001B[0m\u001B[1;33m:\u001B[0m\u001B[1;33m\u001B[0m\u001B[1;33m\u001B[0m\u001B[0m\n\u001B[1;32m--> 650\u001B[1;33m             \u001B[0mself\u001B[0m\u001B[1;33m.\u001B[0m\u001B[0marray\u001B[0m \u001B[1;33m=\u001B[0m \u001B[0mNumpyIndexingAdapter\u001B[0m\u001B[1;33m(\u001B[0m\u001B[0mnp\u001B[0m\u001B[1;33m.\u001B[0m\u001B[0masarray\u001B[0m\u001B[1;33m(\u001B[0m\u001B[0mself\u001B[0m\u001B[1;33m.\u001B[0m\u001B[0marray\u001B[0m\u001B[1;33m)\u001B[0m\u001B[1;33m)\u001B[0m\u001B[1;33m\u001B[0m\u001B[1;33m\u001B[0m\u001B[0m\n\u001B[0m\u001B[0;32m    651\u001B[0m \u001B[1;33m\u001B[0m\u001B[0m\n\u001B[0;32m    652\u001B[0m     \u001B[1;32mdef\u001B[0m \u001B[0m__array__\u001B[0m\u001B[1;33m(\u001B[0m\u001B[0mself\u001B[0m\u001B[1;33m,\u001B[0m \u001B[0mdtype\u001B[0m\u001B[1;33m=\u001B[0m\u001B[1;32mNone\u001B[0m\u001B[1;33m)\u001B[0m\u001B[1;33m:\u001B[0m\u001B[1;33m\u001B[0m\u001B[1;33m\u001B[0m\u001B[0m\n",
      "\u001B[1;32mD:\\anaconda\\conda\\lib\\site-packages\\xarray\\core\\indexing.py\u001B[0m in \u001B[0;36m__array__\u001B[1;34m(self, dtype)\u001B[0m\n\u001B[0;32m    621\u001B[0m \u001B[1;33m\u001B[0m\u001B[0m\n\u001B[0;32m    622\u001B[0m     \u001B[1;32mdef\u001B[0m \u001B[0m__array__\u001B[0m\u001B[1;33m(\u001B[0m\u001B[0mself\u001B[0m\u001B[1;33m,\u001B[0m \u001B[0mdtype\u001B[0m\u001B[1;33m=\u001B[0m\u001B[1;32mNone\u001B[0m\u001B[1;33m)\u001B[0m\u001B[1;33m:\u001B[0m\u001B[1;33m\u001B[0m\u001B[1;33m\u001B[0m\u001B[0m\n\u001B[1;32m--> 623\u001B[1;33m         \u001B[1;32mreturn\u001B[0m \u001B[0mnp\u001B[0m\u001B[1;33m.\u001B[0m\u001B[0masarray\u001B[0m\u001B[1;33m(\u001B[0m\u001B[0mself\u001B[0m\u001B[1;33m.\u001B[0m\u001B[0marray\u001B[0m\u001B[1;33m,\u001B[0m \u001B[0mdtype\u001B[0m\u001B[1;33m=\u001B[0m\u001B[0mdtype\u001B[0m\u001B[1;33m)\u001B[0m\u001B[1;33m\u001B[0m\u001B[1;33m\u001B[0m\u001B[0m\n\u001B[0m\u001B[0;32m    624\u001B[0m \u001B[1;33m\u001B[0m\u001B[0m\n\u001B[0;32m    625\u001B[0m     \u001B[1;32mdef\u001B[0m \u001B[0m__getitem__\u001B[0m\u001B[1;33m(\u001B[0m\u001B[0mself\u001B[0m\u001B[1;33m,\u001B[0m \u001B[0mkey\u001B[0m\u001B[1;33m)\u001B[0m\u001B[1;33m:\u001B[0m\u001B[1;33m\u001B[0m\u001B[1;33m\u001B[0m\u001B[0m\n",
      "\u001B[1;32mD:\\anaconda\\conda\\lib\\site-packages\\xarray\\core\\indexing.py\u001B[0m in \u001B[0;36m__array__\u001B[1;34m(self, dtype)\u001B[0m\n\u001B[0;32m    522\u001B[0m     \u001B[1;32mdef\u001B[0m \u001B[0m__array__\u001B[0m\u001B[1;33m(\u001B[0m\u001B[0mself\u001B[0m\u001B[1;33m,\u001B[0m \u001B[0mdtype\u001B[0m\u001B[1;33m=\u001B[0m\u001B[1;32mNone\u001B[0m\u001B[1;33m)\u001B[0m\u001B[1;33m:\u001B[0m\u001B[1;33m\u001B[0m\u001B[1;33m\u001B[0m\u001B[0m\n\u001B[0;32m    523\u001B[0m         \u001B[0marray\u001B[0m \u001B[1;33m=\u001B[0m \u001B[0mas_indexable\u001B[0m\u001B[1;33m(\u001B[0m\u001B[0mself\u001B[0m\u001B[1;33m.\u001B[0m\u001B[0marray\u001B[0m\u001B[1;33m)\u001B[0m\u001B[1;33m\u001B[0m\u001B[1;33m\u001B[0m\u001B[0m\n\u001B[1;32m--> 524\u001B[1;33m         \u001B[1;32mreturn\u001B[0m \u001B[0mnp\u001B[0m\u001B[1;33m.\u001B[0m\u001B[0masarray\u001B[0m\u001B[1;33m(\u001B[0m\u001B[0marray\u001B[0m\u001B[1;33m[\u001B[0m\u001B[0mself\u001B[0m\u001B[1;33m.\u001B[0m\u001B[0mkey\u001B[0m\u001B[1;33m]\u001B[0m\u001B[1;33m,\u001B[0m \u001B[0mdtype\u001B[0m\u001B[1;33m=\u001B[0m\u001B[1;32mNone\u001B[0m\u001B[1;33m)\u001B[0m\u001B[1;33m\u001B[0m\u001B[1;33m\u001B[0m\u001B[0m\n\u001B[0m\u001B[0;32m    525\u001B[0m \u001B[1;33m\u001B[0m\u001B[0m\n\u001B[0;32m    526\u001B[0m     \u001B[1;32mdef\u001B[0m \u001B[0mtranspose\u001B[0m\u001B[1;33m(\u001B[0m\u001B[0mself\u001B[0m\u001B[1;33m,\u001B[0m \u001B[0morder\u001B[0m\u001B[1;33m)\u001B[0m\u001B[1;33m:\u001B[0m\u001B[1;33m\u001B[0m\u001B[1;33m\u001B[0m\u001B[0m\n",
      "\u001B[1;32mD:\\anaconda\\conda\\lib\\site-packages\\cfgrib\\xarray_plugin.py\u001B[0m in \u001B[0;36m__getitem__\u001B[1;34m(self, key)\u001B[0m\n\u001B[0;32m    154\u001B[0m         \u001B[0mkey\u001B[0m\u001B[1;33m:\u001B[0m \u001B[0mxr\u001B[0m\u001B[1;33m.\u001B[0m\u001B[0mcore\u001B[0m\u001B[1;33m.\u001B[0m\u001B[0mindexing\u001B[0m\u001B[1;33m.\u001B[0m\u001B[0mExplicitIndexer\u001B[0m\u001B[1;33m,\u001B[0m\u001B[1;33m\u001B[0m\u001B[1;33m\u001B[0m\u001B[0m\n\u001B[0;32m    155\u001B[0m     ) -> np.ndarray:\n\u001B[1;32m--> 156\u001B[1;33m         return xr.core.indexing.explicit_indexing_adapter(\n\u001B[0m\u001B[0;32m    157\u001B[0m             \u001B[0mkey\u001B[0m\u001B[1;33m,\u001B[0m \u001B[0mself\u001B[0m\u001B[1;33m.\u001B[0m\u001B[0mshape\u001B[0m\u001B[1;33m,\u001B[0m \u001B[0mxr\u001B[0m\u001B[1;33m.\u001B[0m\u001B[0mcore\u001B[0m\u001B[1;33m.\u001B[0m\u001B[0mindexing\u001B[0m\u001B[1;33m.\u001B[0m\u001B[0mIndexingSupport\u001B[0m\u001B[1;33m.\u001B[0m\u001B[0mBASIC\u001B[0m\u001B[1;33m,\u001B[0m \u001B[0mself\u001B[0m\u001B[1;33m.\u001B[0m\u001B[0m_getitem\u001B[0m\u001B[1;33m\u001B[0m\u001B[1;33m\u001B[0m\u001B[0m\n\u001B[0;32m    158\u001B[0m         )\n",
      "\u001B[1;32mD:\\anaconda\\conda\\lib\\site-packages\\xarray\\core\\indexing.py\u001B[0m in \u001B[0;36mexplicit_indexing_adapter\u001B[1;34m(key, shape, indexing_support, raw_indexing_method)\u001B[0m\n\u001B[0;32m    813\u001B[0m     \"\"\"\n\u001B[0;32m    814\u001B[0m     \u001B[0mraw_key\u001B[0m\u001B[1;33m,\u001B[0m \u001B[0mnumpy_indices\u001B[0m \u001B[1;33m=\u001B[0m \u001B[0mdecompose_indexer\u001B[0m\u001B[1;33m(\u001B[0m\u001B[0mkey\u001B[0m\u001B[1;33m,\u001B[0m \u001B[0mshape\u001B[0m\u001B[1;33m,\u001B[0m \u001B[0mindexing_support\u001B[0m\u001B[1;33m)\u001B[0m\u001B[1;33m\u001B[0m\u001B[1;33m\u001B[0m\u001B[0m\n\u001B[1;32m--> 815\u001B[1;33m     \u001B[0mresult\u001B[0m \u001B[1;33m=\u001B[0m \u001B[0mraw_indexing_method\u001B[0m\u001B[1;33m(\u001B[0m\u001B[0mraw_key\u001B[0m\u001B[1;33m.\u001B[0m\u001B[0mtuple\u001B[0m\u001B[1;33m)\u001B[0m\u001B[1;33m\u001B[0m\u001B[1;33m\u001B[0m\u001B[0m\n\u001B[0m\u001B[0;32m    816\u001B[0m     \u001B[1;32mif\u001B[0m \u001B[0mnumpy_indices\u001B[0m\u001B[1;33m.\u001B[0m\u001B[0mtuple\u001B[0m\u001B[1;33m:\u001B[0m\u001B[1;33m\u001B[0m\u001B[1;33m\u001B[0m\u001B[0m\n\u001B[0;32m    817\u001B[0m         \u001B[1;31m# index the loaded np.ndarray\u001B[0m\u001B[1;33m\u001B[0m\u001B[1;33m\u001B[0m\u001B[0m\n",
      "\u001B[1;32mD:\\anaconda\\conda\\lib\\site-packages\\cfgrib\\xarray_plugin.py\u001B[0m in \u001B[0;36m_getitem\u001B[1;34m(self, key)\u001B[0m\n\u001B[0;32m    163\u001B[0m     ) -> np.ndarray:\n\u001B[0;32m    164\u001B[0m         \u001B[1;32mwith\u001B[0m \u001B[0mself\u001B[0m\u001B[1;33m.\u001B[0m\u001B[0mdatastore\u001B[0m\u001B[1;33m.\u001B[0m\u001B[0mlock\u001B[0m\u001B[1;33m:\u001B[0m\u001B[1;33m\u001B[0m\u001B[1;33m\u001B[0m\u001B[0m\n\u001B[1;32m--> 165\u001B[1;33m             \u001B[1;32mreturn\u001B[0m \u001B[0mself\u001B[0m\u001B[1;33m.\u001B[0m\u001B[0marray\u001B[0m\u001B[1;33m[\u001B[0m\u001B[0mkey\u001B[0m\u001B[1;33m]\u001B[0m\u001B[1;33m\u001B[0m\u001B[1;33m\u001B[0m\u001B[0m\n\u001B[0m",
      "\u001B[1;32mD:\\anaconda\\conda\\lib\\site-packages\\cfgrib\\dataset.py\u001B[0m in \u001B[0;36m__getitem__\u001B[1;34m(self, item)\u001B[0m\n\u001B[0;32m    352\u001B[0m                 \u001B[1;32mcontinue\u001B[0m\u001B[1;33m\u001B[0m\u001B[1;33m\u001B[0m\u001B[0m\n\u001B[0;32m    353\u001B[0m             \u001B[1;31m# NOTE: fill a single field as found in the message\u001B[0m\u001B[1;33m\u001B[0m\u001B[1;33m\u001B[0m\u001B[0m\n\u001B[1;32m--> 354\u001B[1;33m             \u001B[0mmessage\u001B[0m \u001B[1;33m=\u001B[0m \u001B[0mself\u001B[0m\u001B[1;33m.\u001B[0m\u001B[0mindex\u001B[0m\u001B[1;33m.\u001B[0m\u001B[0mget_field\u001B[0m\u001B[1;33m(\u001B[0m\u001B[0mmessage_ids\u001B[0m\u001B[1;33m[\u001B[0m\u001B[1;36m0\u001B[0m\u001B[1;33m]\u001B[0m\u001B[1;33m)\u001B[0m  \u001B[1;31m# type: ignore\u001B[0m\u001B[1;33m\u001B[0m\u001B[1;33m\u001B[0m\u001B[0m\n\u001B[0m\u001B[0;32m    355\u001B[0m             \u001B[0mvalues\u001B[0m \u001B[1;33m=\u001B[0m \u001B[0mget_values_in_order\u001B[0m\u001B[1;33m(\u001B[0m\u001B[0mmessage\u001B[0m\u001B[1;33m,\u001B[0m \u001B[0marray_field\u001B[0m\u001B[1;33m[\u001B[0m\u001B[0mtuple\u001B[0m\u001B[1;33m(\u001B[0m\u001B[0marray_field_indexes\u001B[0m\u001B[1;33m)\u001B[0m\u001B[1;33m]\u001B[0m\u001B[1;33m.\u001B[0m\u001B[0mshape\u001B[0m\u001B[1;33m)\u001B[0m\u001B[1;33m\u001B[0m\u001B[1;33m\u001B[0m\u001B[0m\n\u001B[0;32m    356\u001B[0m             \u001B[0marray_field\u001B[0m\u001B[1;33m.\u001B[0m\u001B[0m__getitem__\u001B[0m\u001B[1;33m(\u001B[0m\u001B[0mtuple\u001B[0m\u001B[1;33m(\u001B[0m\u001B[0marray_field_indexes\u001B[0m\u001B[1;33m)\u001B[0m\u001B[1;33m)\u001B[0m\u001B[1;33m.\u001B[0m\u001B[0mflat\u001B[0m\u001B[1;33m[\u001B[0m\u001B[1;33m:\u001B[0m\u001B[1;33m]\u001B[0m \u001B[1;33m=\u001B[0m \u001B[0mvalues\u001B[0m\u001B[1;33m\u001B[0m\u001B[1;33m\u001B[0m\u001B[0m\n",
      "\u001B[1;32mD:\\anaconda\\conda\\lib\\site-packages\\cfgrib\\messages.py\u001B[0m in \u001B[0;36mget_field\u001B[1;34m(self, message_id)\u001B[0m\n\u001B[0;32m    482\u001B[0m \u001B[1;33m\u001B[0m\u001B[0m\n\u001B[0;32m    483\u001B[0m     \u001B[1;32mdef\u001B[0m \u001B[0mget_field\u001B[0m\u001B[1;33m(\u001B[0m\u001B[0mself\u001B[0m\u001B[1;33m,\u001B[0m \u001B[0mmessage_id\u001B[0m\u001B[1;33m:\u001B[0m \u001B[0mT\u001B[0m\u001B[1;33m.\u001B[0m\u001B[0mAny\u001B[0m\u001B[1;33m)\u001B[0m \u001B[1;33m->\u001B[0m \u001B[0mabc\u001B[0m\u001B[1;33m.\u001B[0m\u001B[0mField\u001B[0m\u001B[1;33m:\u001B[0m\u001B[1;33m\u001B[0m\u001B[1;33m\u001B[0m\u001B[0m\n\u001B[1;32m--> 484\u001B[1;33m         \u001B[1;32mreturn\u001B[0m \u001B[0mComputedKeysAdapter\u001B[0m\u001B[1;33m(\u001B[0m\u001B[0mself\u001B[0m\u001B[1;33m.\u001B[0m\u001B[0mfieldset\u001B[0m\u001B[1;33m[\u001B[0m\u001B[0mmessage_id\u001B[0m\u001B[1;33m]\u001B[0m\u001B[1;33m,\u001B[0m \u001B[0mself\u001B[0m\u001B[1;33m.\u001B[0m\u001B[0mcomputed_keys\u001B[0m\u001B[1;33m)\u001B[0m\u001B[1;33m\u001B[0m\u001B[1;33m\u001B[0m\u001B[0m\n\u001B[0m\u001B[0;32m    485\u001B[0m \u001B[1;33m\u001B[0m\u001B[0m\n\u001B[0;32m    486\u001B[0m     \u001B[1;32mdef\u001B[0m \u001B[0mfirst\u001B[0m\u001B[1;33m(\u001B[0m\u001B[0mself\u001B[0m\u001B[1;33m)\u001B[0m \u001B[1;33m->\u001B[0m \u001B[0mabc\u001B[0m\u001B[1;33m.\u001B[0m\u001B[0mField\u001B[0m\u001B[1;33m:\u001B[0m\u001B[1;33m\u001B[0m\u001B[1;33m\u001B[0m\u001B[0m\n",
      "\u001B[1;32mD:\\anaconda\\conda\\lib\\site-packages\\cfgrib\\messages.py\u001B[0m in \u001B[0;36m__getitem__\u001B[1;34m(self, item)\u001B[0m\n\u001B[0;32m    342\u001B[0m     \u001B[1;32mdef\u001B[0m \u001B[0m__getitem__\u001B[0m\u001B[1;33m(\u001B[0m\u001B[0mself\u001B[0m\u001B[1;33m,\u001B[0m \u001B[0mitem\u001B[0m\u001B[1;33m:\u001B[0m \u001B[0mT\u001B[0m\u001B[1;33m.\u001B[0m\u001B[0mOptional\u001B[0m\u001B[1;33m[\u001B[0m\u001B[0mOffsetType\u001B[0m\u001B[1;33m]\u001B[0m\u001B[1;33m)\u001B[0m \u001B[1;33m->\u001B[0m \u001B[0mMessage\u001B[0m\u001B[1;33m:\u001B[0m\u001B[1;33m\u001B[0m\u001B[1;33m\u001B[0m\u001B[0m\n\u001B[0;32m    343\u001B[0m         \u001B[1;32mwith\u001B[0m \u001B[0mopen\u001B[0m\u001B[1;33m(\u001B[0m\u001B[0mself\u001B[0m\u001B[1;33m.\u001B[0m\u001B[0mpath\u001B[0m\u001B[1;33m,\u001B[0m \u001B[1;34m\"rb\"\u001B[0m\u001B[1;33m)\u001B[0m \u001B[1;32mas\u001B[0m \u001B[0mfile\u001B[0m\u001B[1;33m:\u001B[0m\u001B[1;33m\u001B[0m\u001B[1;33m\u001B[0m\u001B[0m\n\u001B[1;32m--> 344\u001B[1;33m             \u001B[1;32mreturn\u001B[0m \u001B[0mself\u001B[0m\u001B[1;33m.\u001B[0m\u001B[0mmessage_from_file\u001B[0m\u001B[1;33m(\u001B[0m\u001B[0mfile\u001B[0m\u001B[1;33m,\u001B[0m \u001B[0moffset\u001B[0m\u001B[1;33m=\u001B[0m\u001B[0mitem\u001B[0m\u001B[1;33m)\u001B[0m\u001B[1;33m\u001B[0m\u001B[1;33m\u001B[0m\u001B[0m\n\u001B[0m\u001B[0;32m    345\u001B[0m \u001B[1;33m\u001B[0m\u001B[0m\n\u001B[0;32m    346\u001B[0m     \u001B[1;32mdef\u001B[0m \u001B[0m__len__\u001B[0m\u001B[1;33m(\u001B[0m\u001B[0mself\u001B[0m\u001B[1;33m)\u001B[0m \u001B[1;33m->\u001B[0m \u001B[0mint\u001B[0m\u001B[1;33m:\u001B[0m\u001B[1;33m\u001B[0m\u001B[1;33m\u001B[0m\u001B[0m\n",
      "\u001B[1;32mD:\\anaconda\\conda\\lib\\site-packages\\cfgrib\\messages.py\u001B[0m in \u001B[0;36mmessage_from_file\u001B[1;34m(self, file, offset, **kwargs)\u001B[0m\n\u001B[0;32m    338\u001B[0m     \u001B[1;32mdef\u001B[0m \u001B[0mmessage_from_file\u001B[0m\u001B[1;33m(\u001B[0m\u001B[0mself\u001B[0m\u001B[1;33m,\u001B[0m \u001B[0mfile\u001B[0m\u001B[1;33m,\u001B[0m \u001B[0moffset\u001B[0m\u001B[1;33m=\u001B[0m\u001B[1;32mNone\u001B[0m\u001B[1;33m,\u001B[0m \u001B[1;33m**\u001B[0m\u001B[0mkwargs\u001B[0m\u001B[1;33m)\u001B[0m\u001B[1;33m:\u001B[0m\u001B[1;33m\u001B[0m\u001B[1;33m\u001B[0m\u001B[0m\n\u001B[0;32m    339\u001B[0m         \u001B[1;31m# type: (T.IO[bytes], T.Optional[OffsetType], T.Any) -> Message\u001B[0m\u001B[1;33m\u001B[0m\u001B[1;33m\u001B[0m\u001B[0m\n\u001B[1;32m--> 340\u001B[1;33m         \u001B[1;32mreturn\u001B[0m \u001B[0mMessage\u001B[0m\u001B[1;33m.\u001B[0m\u001B[0mfrom_file\u001B[0m\u001B[1;33m(\u001B[0m\u001B[0mfile\u001B[0m\u001B[1;33m,\u001B[0m \u001B[0moffset\u001B[0m\u001B[1;33m,\u001B[0m \u001B[1;33m**\u001B[0m\u001B[0mkwargs\u001B[0m\u001B[1;33m)\u001B[0m\u001B[1;33m\u001B[0m\u001B[1;33m\u001B[0m\u001B[0m\n\u001B[0m\u001B[0;32m    341\u001B[0m \u001B[1;33m\u001B[0m\u001B[0m\n\u001B[0;32m    342\u001B[0m     \u001B[1;32mdef\u001B[0m \u001B[0m__getitem__\u001B[0m\u001B[1;33m(\u001B[0m\u001B[0mself\u001B[0m\u001B[1;33m,\u001B[0m \u001B[0mitem\u001B[0m\u001B[1;33m:\u001B[0m \u001B[0mT\u001B[0m\u001B[1;33m.\u001B[0m\u001B[0mOptional\u001B[0m\u001B[1;33m[\u001B[0m\u001B[0mOffsetType\u001B[0m\u001B[1;33m]\u001B[0m\u001B[1;33m)\u001B[0m \u001B[1;33m->\u001B[0m \u001B[0mMessage\u001B[0m\u001B[1;33m:\u001B[0m\u001B[1;33m\u001B[0m\u001B[1;33m\u001B[0m\u001B[0m\n",
      "\u001B[1;32mD:\\anaconda\\conda\\lib\\site-packages\\cfgrib\\messages.py\u001B[0m in \u001B[0;36mfrom_file\u001B[1;34m(cls, file, offset, **kwargs)\u001B[0m\n\u001B[0;32m     91\u001B[0m             \u001B[0moffset\u001B[0m\u001B[1;33m,\u001B[0m \u001B[0mfield_in_message\u001B[0m \u001B[1;33m=\u001B[0m \u001B[0moffset\u001B[0m\u001B[1;33m\u001B[0m\u001B[1;33m\u001B[0m\u001B[0m\n\u001B[0;32m     92\u001B[0m         \u001B[1;32mif\u001B[0m \u001B[0moffset\u001B[0m \u001B[1;32mis\u001B[0m \u001B[1;32mnot\u001B[0m \u001B[1;32mNone\u001B[0m\u001B[1;33m:\u001B[0m\u001B[1;33m\u001B[0m\u001B[1;33m\u001B[0m\u001B[0m\n\u001B[1;32m---> 93\u001B[1;33m             \u001B[0mfile\u001B[0m\u001B[1;33m.\u001B[0m\u001B[0mseek\u001B[0m\u001B[1;33m(\u001B[0m\u001B[0moffset\u001B[0m\u001B[1;33m)\u001B[0m\u001B[1;33m\u001B[0m\u001B[1;33m\u001B[0m\u001B[0m\n\u001B[0m\u001B[0;32m     94\u001B[0m         \u001B[0mcodes_id\u001B[0m \u001B[1;33m=\u001B[0m \u001B[1;32mNone\u001B[0m\u001B[1;33m\u001B[0m\u001B[1;33m\u001B[0m\u001B[0m\n\u001B[0;32m     95\u001B[0m         \u001B[1;32mif\u001B[0m \u001B[0mfield_in_message\u001B[0m \u001B[1;33m==\u001B[0m \u001B[1;36m0\u001B[0m\u001B[1;33m:\u001B[0m\u001B[1;33m\u001B[0m\u001B[1;33m\u001B[0m\u001B[0m\n",
      "\u001B[1;31mOSError\u001B[0m: [Errno 22] Invalid argument"
     ]
    }
   ],
   "source": [
    "test1.d.loc['2023-06-19 02:00:00', 0, 0].values"
   ],
   "metadata": {
    "collapsed": false,
    "ExecuteTime": {
     "end_time": "2023-11-17T15:16:52.777285400Z",
     "start_time": "2023-11-17T15:16:52.737187200Z"
    }
   }
  },
  {
   "cell_type": "code",
   "execution_count": null,
   "id": "e17a6c76",
   "metadata": {
    "scrolled": true
   },
   "outputs": [],
   "source": [
    "forecastData = pd.read_csv(\"D:\\datas\\python\\dachuang\\\\typhoon(CHINA)\\台风预测值与真实值对照数据（12小时版）（原版） - 副本 - 副本.csv\")"
   ]
  },
  {
   "cell_type": "code",
   "execution_count": null,
   "id": "f95dfae0",
   "metadata": {},
   "outputs": [],
   "source": [
    "forecastData[forecastData['lon+0']>150]"
   ]
  },
  {
   "cell_type": "code",
   "execution_count": null,
   "id": "08861ea4",
   "metadata": {},
   "outputs": [],
   "source": [
    " #forecastData = forecastData.replace(['0', 'null', ' '], [np.nan, np.nan, np.nan])     这两段已近用过了\n",
    "#forecastData.to_csv(\"D:\\datas\\python\\dachuang\\\\typhoon(CHINA)\\\\typhoon forecast data2.csv\", index=False)"
   ]
  },
  {
   "cell_type": "code",
   "execution_count": null,
   "id": "ef7286e7",
   "metadata": {},
   "outputs": [],
   "source": [
    "forecastData = forecastData.dropna()\n",
    "forecastData = forecastData.reset_index(drop=True)"
   ]
  },
  {
   "cell_type": "code",
   "execution_count": null,
   "id": "275a23a6",
   "metadata": {},
   "outputs": [],
   "source": [
    "forecastData"
   ]
  },
  {
   "cell_type": "code",
   "execution_count": null,
   "id": "388c0f37",
   "metadata": {},
   "outputs": [],
   "source": [
    "forecastDataOrigin = forecastData[['lon+0', 'lat+0', 'speed+0', 'pressure+0']]\n",
    "realLat = pd.DataFrame(forecastData.loc[:, 'forecastLat'] - forecastData.loc[:, 'lat+1'], columns=['lat'])\n",
    "realLon = pd.DataFrame(forecastData.loc[:, 'forecastLon'] - forecastData.loc[:, 'lon+1'], columns=['lon'])\n",
    "realPressure = pd.DataFrame(forecastData.loc[:, 'forecastPressure'] - forecastData.loc[:, 'pressure+1'], columns=['pressure'])\n",
    "realSpeed = pd.DataFrame(forecastData.loc[:, 'forecastSpeed'] - forecastData.loc[:, 'speed+1'], columns=['speed'])\n",
    "realRoute = pd.concat([realLat, realLon], axis=1, keys=['lat', 'lon'])"
   ]
  },
  {
   "cell_type": "code",
   "execution_count": null,
   "id": "849ae253",
   "metadata": {},
   "outputs": [],
   "source": [
    "speedVar = float(np.var(realSpeed))\n",
    "speedMean = float(realSpeed.mean(axis=0))\n",
    "latVar = float(np.var(realLat))\n",
    "latMean = float(realLat.mean(axis=0))\n",
    "lonVar = float(np.var(realLon))\n",
    "lonMean = float(realLon.mean(axis=0))\n",
    "pressureVar = float(np.var(realPressure))\n",
    "pressureMean = float(realPressure.mean(axis=0))\n",
    "realSpeed.loc[(realSpeed['speed']>-5)&(realSpeed['speed']<5), 'error'] = 'less than 1sigma'\n",
    "realSpeed.loc[(realSpeed['speed']<=-5)|(realSpeed['speed']>=5), 'error'] = 'more than 1sigma'\n",
    "realPressure.loc[(realPressure['pressure']>-5)&(realPressure['pressure']<5), 'error'] = 'less than 1sigma'\n",
    "realPressure.loc[(realPressure['pressure']<=-5)|(realPressure['pressure']>=5), 'error'] = 'more than 1sigma'\n",
    "realLat.loc[(realLat['lat']>latMean-latVar)&(realLat['lat']<latMean+latVar), 'error'] = 'less than 1sigma'\n",
    "realLat.loc[(realLat['lat']<=latMean-latVar)|(realLat['lat']>=latMean+latVar), 'error'] = 'more than 1sigma'\n",
    "realLon.loc[(realLon['lon']>lonMean-lonVar)&(realLon['lon']<lonMean+lonVar), 'error'] = 'less than 1sigma'\n",
    "realLon.loc[(realLon['lon']<=lonMean-lonVar)|(realLon['lon']>=lonMean+lonVar), 'error'] = 'more than 1sigma'\n",
    "realRoute = pd.concat([realLat, realLon], axis=1, keys=['lat', 'lon'])"
   ]
  },
  {
   "cell_type": "raw",
   "id": "bf9a855c",
   "metadata": {},
   "source": [
    "fig = plt.figure()\n",
    "plt.hist(realSpeed['speed'], bins=20)\n",
    "plt.xlim([-15,20])\n",
    "plt.rcParams[\"font.sans-serif\"]=[\"SimHei\"] #设置字体\n",
    "plt.rcParams[\"axes.unicode_minus\"]=False #正常显示负号\n",
    "plt.xlabel('误差大小')\n",
    "plt.axvline(0, c='k', ls='--')"
   ]
  },
  {
   "cell_type": "raw",
   "id": "c2b0516c",
   "metadata": {},
   "source": [
    "fig = plt.figure()\n",
    "plt.hist(realPressure['pressure'], 20)\n",
    "plt.xlim([-20,25])\n",
    "plt.rcParams[\"font.sans-serif\"]=[\"SimHei\"] #设置字体\n",
    "plt.rcParams[\"axes.unicode_minus\"]=False #正常显示负号\n",
    "plt.xlabel('误差大小')\n",
    "plt.axvline(0, c='k', ls='--')\n",
    "realPressure.sort_values('pressure')"
   ]
  },
  {
   "cell_type": "raw",
   "id": "691fa00f",
   "metadata": {},
   "source": [
    "realSpeed.sort_values('speed')"
   ]
  },
  {
   "cell_type": "code",
   "execution_count": null,
   "id": "30b579e8",
   "metadata": {},
   "outputs": [],
   "source": [
    "originTrain1, originTest1, routeTrain, routeTest = train_test_split(forecastDataOrigin , realLat['error'], random_state=17)\n",
    "originTrain2, originTest2, pressureTrain, pressureTest = train_test_split(forecastDataOrigin, realPressure['error'], random_state=17)\n",
    "originTrain3, originTest3, speedTrain, speedTest = train_test_split(forecastDataOrigin, realSpeed['error'], random_state=17)"
   ]
  },
  {
   "cell_type": "code",
   "execution_count": null,
   "id": "0d6c6421",
   "metadata": {},
   "outputs": [],
   "source": [
    "def creatEst(x, y):\n",
    "    kf = KFold(n_splits=5)\n",
    "    estList = []\n",
    "    for train, test in kf.split(originTrain1):\n",
    "        xTrain, xTest, yTrain, yTest = train_test_split(originTrain1.iloc[train], realLat['error'].iloc[train], random_state=17)\n",
    "        estimator = DecisionTreeClassifier(max_depth=4, min_samples_leaf=5, min_samples_split=4)\n",
    "        estimator.fit(xTrain, yTrain)\n",
    "        estList.append(estimator)\n",
    "    return estList"
   ]
  },
  {
   "cell_type": "code",
   "execution_count": null,
   "id": "8c5310b4",
   "metadata": {},
   "outputs": [],
   "source": [
    "routeList = creatEst(originTrain1, routeTrain)\n",
    "pressureList = creatEst(originTrain2, pressureTrain)\n",
    "speedList = creatEst(originTrain3, speedTrain)"
   ]
  },
  {
   "cell_type": "code",
   "execution_count": null,
   "id": "e28bfbeb",
   "metadata": {},
   "outputs": [],
   "source": [
    "np.set_printoptions(threshold=np.inf)\n",
    "#routeList[1].predict(originTest1)\n",
    "routeTest.count()"
   ]
  },
  {
   "cell_type": "code",
   "execution_count": null,
   "id": "bb15142a",
   "metadata": {},
   "outputs": [],
   "source": [
    "(routeList[1].predict(originTest1) == routeTest).value_counts()"
   ]
  },
  {
   "cell_type": "code",
   "execution_count": null,
   "id": "6c3772f0",
   "metadata": {},
   "outputs": [],
   "source": [
    "(pressureList[4].predict(originTest2) == pressureTest).value_counts()"
   ]
  },
  {
   "cell_type": "code",
   "execution_count": null,
   "id": "bc57295c",
   "metadata": {},
   "outputs": [],
   "source": [
    "(speedList[1].predict(originTest3) == speedTest).value_counts()"
   ]
  },
  {
   "cell_type": "code",
   "execution_count": null,
   "id": "15fdaddc",
   "metadata": {
    "scrolled": true
   },
   "outputs": [],
   "source": [
    "fig = plt.figure(figsize=(12,6))\n",
    "_ = tree.plot_tree(\n",
    "    routeList[1], \n",
    "    feature_names=['lon', 'lat','speed', 'pressure'],  \n",
    "    class_names=['less than 1sigma', 'more than 1sigma'],\n",
    "    filled=True\n",
    ")\n",
    "fig.savefig(\".\\分类结果（lat）.png\", dpi=800)"
   ]
  },
  {
   "cell_type": "code",
   "execution_count": null,
   "id": "43807314",
   "metadata": {},
   "outputs": [],
   "source": [
    "fig = plt.figure(figsize=(12,6))\n",
    "_ = tree.plot_tree(\n",
    "    pressureList[4], \n",
    "    feature_names=['lon', 'lat','speed', 'pressure'],  \n",
    "    class_names=['less than 1sigma', 'more than 1sigma'],\n",
    "    filled=True\n",
    ")\n",
    "fig.savefig(\".\\分类结果（气压）.png\", dpi=800)"
   ]
  },
  {
   "cell_type": "code",
   "execution_count": null,
   "id": "3a3d2d71",
   "metadata": {
    "scrolled": true
   },
   "outputs": [],
   "source": [
    "fig = plt.figure(figsize=(12,6))\n",
    "_ = tree.plot_tree(\n",
    "    speedList[1], \n",
    "    feature_names=['lon', 'lat','speed', 'pressure'],  \n",
    "    class_names=['less than 1sigma', 'more than 1sigma'],\n",
    "    filled=True\n",
    ")\n",
    "fig.savefig(\".\\分类结果（速度）.png\", dpi=800)"
   ]
  },
  {
   "cell_type": "code",
   "execution_count": null,
   "id": "3b9a1e03",
   "metadata": {
    "scrolled": true
   },
   "outputs": [],
   "source": [
    "#pd.set_option('display.max_rows', None)\n",
    "realRoute[(realRoute['lat']['error']=='more than 1sigma')&(realRoute['lon']['error']=='more than 1sigma')]"
   ]
  },
  {
   "cell_type": "code",
   "execution_count": null,
   "id": "4b6e25b8",
   "metadata": {},
   "outputs": [],
   "source": [
    "errPressure = forecastDataOrigin.iloc[realPressure[realPressure['error']=='more than 1sigma'].index]\n",
    "plt.subplot2grid((2, 3), (0, 0))\n",
    "plt.hist(errPressure['pressure+0'])\n",
    "plt.title('pressure')\n",
    "plt.subplot2grid((2, 3), (1, 0))\n",
    "plt.hist(errPressure['speed+0'])\n",
    "plt.title('speed')\n",
    "plt.subplot2grid((2, 3), (0, 1), colspan=2, rowspan=2)\n",
    "m = Basemap(projection='cyl',llcrnrlon=90.,llcrnrlat=0.,urcrnrlon=180.,urcrnrlat=45.,resolution=\"i\")\n",
    "m.drawcoastlines()\n",
    "m.drawmapboundary(fill_color='#87CEEB')\n",
    "m.fillcontinents(color='#FFFFFF',lake_color='#87CEEB')\n",
    "co = plt.hist2d(errPressure['lon+0'], errPressure['lat+0'], bins=(30, 30), range=[[90, 180], [0, 40]])\n",
    "coCompare = plt.hist2d(forecastData['lon+0'], forecastData['lat+0'], bins=(30, 30), range=[[90, 180], [0, 40]])\n",
    "co = np.divide(co[0], coCompare[0]+1)\n",
    "plt.contourf(coCompare[1], coCompare[2], co, cmap=\"Blues\", vmin=0.6)\n",
    "plt.colorbar(label='percentage')\n",
    "plt.title('coordinate' + '\\ntotal: ' + str(errPressure['pressure+0'].shape[0]))\n",
    "plt.suptitle('error of pressure')\n",
    "plt.tight_layout()\n",
    "#plt.savefig(\".\\气压误差直方图.png\", dpi=600)\n",
    "plt.show()\n",
    "plt.close()"
   ]
  },
  {
   "cell_type": "code",
   "execution_count": null,
   "outputs": [],
   "source": [
    "errRoute = forecastDataOrigin.iloc[realRoute[(realRoute['lat']['error']=='more than 1sigma')&(realRoute['lon']['error']=='more than 1sigma')].index]\n",
    "plt.subplot2grid((2, 3), (0, 0))\n",
    "plt.hist(errRoute['pressure+0'])\n",
    "plt.title('pressure')\n",
    "plt.subplot2grid((2, 3), (1, 0))\n",
    "plt.hist(errRoute['speed+0'])\n",
    "plt.title('speed')\n",
    "plt.subplot2grid((2, 3), (0, 1), colspan=2, rowspan=2)\n",
    "m = Basemap(projection='cyl',llcrnrlon=90.,llcrnrlat=0.,urcrnrlon=180.,urcrnrlat=45.,resolution=\"i\")\n",
    "m.drawcoastlines()\n",
    "m.drawmapboundary(fill_color='#87CEEB')\n",
    "m.fillcontinents(color='#FFFFFF',lake_color='#87CEEB')\n",
    "co = plt.hist2d(errRoute['lon+0'], errRoute['lat+0'], bins=(30, 30), range=[[90, 180], [0, 45]])\n",
    "coCompare = plt.hist2d(forecastData['lon+0'], forecastData['lat+0'], bins=(30, 30), range=[[90, 180], [0, 45]])\n",
    "co = np.divide(co[0], coCompare[0]+1)\n",
    "plt.pcolormesh(coCompare[1], coCompare[2], co, cmap=\"Blues\", vmin=0.4)\n",
    "plt.colorbar(label='percentage')\n",
    "plt.title('coordinate' + '\\ntotal: ' + str(errRoute['lon+0'].shape[0]))\n",
    "plt.suptitle('error of route')\n",
    "plt.tight_layout()\n",
    "#plt.savefig(\".\\路径误差直方图.png\", dpi=600)\n",
    "plt.show()\n",
    "plt.close()"
   ],
   "metadata": {
    "collapsed": false
   }
  },
  {
   "cell_type": "code",
   "execution_count": null,
   "id": "bee53648",
   "metadata": {},
   "outputs": [],
   "source": [
    "errSpeed = forecastDataOrigin.iloc[realSpeed[realSpeed['error']=='more than 1sigma'].index]\n",
    "plt.title('速度误差直方图')\n",
    "plt.subplot2grid((2, 3), (0, 0))\n",
    "plt.hist(errSpeed['pressure+0'])\n",
    "plt.title('pressure')\n",
    "plt.subplot2grid((2, 3), (1, 0))\n",
    "plt.hist(errSpeed['speed+0'])\n",
    "plt.title('speed')\n",
    "plt.subplot2grid((2, 3), (0, 1), colspan=2, rowspan=2)\n",
    "m = Basemap(projection='cyl',llcrnrlon=90.,llcrnrlat=0.,urcrnrlon=180.,urcrnrlat=45.,resolution=\"i\")\n",
    "m.drawcoastlines()\n",
    "m.drawmapboundary(fill_color='#87CEEB')\n",
    "m.fillcontinents(color='#FFFFFF',lake_color='#87CEEB')\n",
    "coSpeed = plt.hist2d(errSpeed['lon+0'], errSpeed['lat+0'], bins=(30, 30), range=[[90, 180], [0, 40]])\n",
    "coCompare = plt.hist2d(forecastData['lon+0'], forecastData['lat+0'], bins=(30, 30), range=[[90, 180], [0, 40]])\n",
    "coSpeed = np.divide(coSpeed[0], coCompare[0]+1)\n",
    "plt.pcolormesh(coCompare[1], coCompare[2], coSpeed, cmap=\"Blues\", vmin=0.4)\n",
    "plt.colorbar(label='percentage')\n",
    "plt.title('coordinate' + '\\ntotal: ' + str(errSpeed['pressure+0'].shape[0]))\n",
    "plt.suptitle('error of speed')\n",
    "plt.tight_layout()\n",
    "#plt.savefig(\".\\速度误差直方图.png\", dpi=600)\n",
    "plt.show()\n",
    "plt.close()"
   ]
  }
 ],
 "metadata": {
  "kernelspec": {
   "display_name": "Python 3 (ipykernel)",
   "language": "python",
   "name": "python3"
  },
  "language_info": {
   "codemirror_mode": {
    "name": "ipython",
    "version": 3
   },
   "file_extension": ".py",
   "mimetype": "text/x-python",
   "name": "python",
   "nbconvert_exporter": "python",
   "pygments_lexer": "ipython3",
   "version": "3.9.15"
  }
 },
 "nbformat": 4,
 "nbformat_minor": 5
}
